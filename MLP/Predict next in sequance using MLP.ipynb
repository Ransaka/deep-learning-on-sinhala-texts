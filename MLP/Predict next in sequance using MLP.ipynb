{
  "nbformat": 4,
  "nbformat_minor": 0,
  "metadata": {
    "colab": {
      "provenance": []
    },
    "kernelspec": {
      "name": "python3",
      "display_name": "Python 3"
    },
    "language_info": {
      "name": "python"
    },
    "accelerator": "GPU",
    "gpuClass": "standard"
  },
  "cells": [
    {
      "cell_type": "code",
      "source": [
        "import re\n",
        "import random\n",
        "import torch\n",
        "import torch.nn.functional as F\n",
        "import matplotlib.pyplot as plt # for making figures\n",
        "from collections import Counter\n",
        "\n",
        "random.seed(42)\n",
        "%matplotlib inline"
      ],
      "metadata": {
        "id": "0K9ejoZRbMuN"
      },
      "execution_count": 2,
      "outputs": []
    },
    {
      "cell_type": "code",
      "source": [
        "def replace_with_mask(match):\n",
        "    # Get the matched digit sequence\n",
        "    digit_seq = match.group()\n",
        "\n",
        "    # Choose the mask based on the length of the digit sequence\n",
        "    if len(digit_seq) == 1:\n",
        "        return '[1_DIGIT]'\n",
        "    elif len(digit_seq) == 2:\n",
        "        return '[2_DIGITS]'\n",
        "    else:\n",
        "        return '[MULTI_DIGITS]'"
      ],
      "metadata": {
        "id": "0IORMBWYbZEV"
      },
      "execution_count": 3,
      "outputs": []
    },
    {
      "cell_type": "code",
      "source": [
        "file = open(\"../data/news.text\", mode='r', encoding='utf-8')\n"
      ],
      "metadata": {
        "id": "0E4wdg49bao6"
      },
      "execution_count": 4,
      "outputs": []
    },
    {
      "cell_type": "code",
      "source": [
        "content = file.read()"
      ],
      "metadata": {
        "id": "0OXG9Tq0bdLy"
      },
      "execution_count": 5,
      "outputs": []
    },
    {
      "cell_type": "code",
      "source": [
        "print(len(content))\n",
        "content[0:100]"
      ],
      "metadata": {
        "colab": {
          "base_uri": "https://localhost:8080/",
          "height": 53
        },
        "id": "C1EZU4SXbexJ",
        "outputId": "33760448-68d2-4767-9da5-4a31f7d34b7b"
      },
      "execution_count": 6,
      "outputs": [
        {
          "output_type": "stream",
          "name": "stdout",
          "text": [
            "967672\n"
          ]
        },
        {
          "output_type": "execute_result",
          "data": {
            "text/plain": [
              "'පූර්ණ සුවය ලැබූ නාවික හමුදා සාමාජිකයන් සංඛ්\\u200dයාව 250 දක්වා ඉහළට|පොලිස් මුරපොළක් මතට ගසක් කඩාවැටීමෙන් '"
            ],
            "application/vnd.google.colaboratory.intrinsic+json": {
              "type": "string"
            }
          },
          "metadata": {},
          "execution_count": 6
        }
      ]
    },
    {
      "cell_type": "code",
      "source": [
        "headlines = content.split(\"|\")\n",
        "len(headlines)"
      ],
      "metadata": {
        "colab": {
          "base_uri": "https://localhost:8080/"
        },
        "id": "-Bisfh3Ybixv",
        "outputId": "8ccbd687-3dc7-4821-d41e-e163f1e7a1dc"
      },
      "execution_count": 7,
      "outputs": [
        {
          "output_type": "execute_result",
          "data": {
            "text/plain": [
              "18684"
            ]
          },
          "metadata": {},
          "execution_count": 7
        }
      ]
    },
    {
      "cell_type": "code",
      "source": [
        "headlines[0]"
      ],
      "metadata": {
        "colab": {
          "base_uri": "https://localhost:8080/",
          "height": 36
        },
        "id": "Bq4-ttsCbmnU",
        "outputId": "78474c7e-e65a-4ae1-9757-30d36b7d7c4f"
      },
      "execution_count": 8,
      "outputs": [
        {
          "output_type": "execute_result",
          "data": {
            "text/plain": [
              "'පූර්ණ සුවය ලැබූ නාවික හමුදා සාමාජිකයන් සංඛ්\\u200dයාව 250 දක්වා ඉහළට'"
            ],
            "application/vnd.google.colaboratory.intrinsic+json": {
              "type": "string"
            }
          },
          "metadata": {},
          "execution_count": 8
        }
      ]
    },
    {
      "cell_type": "code",
      "source": [
        "remove_special_char = lambda txt: re.sub(r'[^\\w\\s\\d\\u0D80-\\u0DFF]','', txt)\n",
        "remove_text_inside_brackets = lambda txt: re.sub(r'[\\[\\{\\(].*?[\\)\\}\\]]|[^\\w\\s\\d\\u0D80-\\u0DFF]', '', txt)\n",
        "remove_multi_spaces = lambda txt: re.sub(r'\\s+', ' ', txt)"
      ],
      "metadata": {
        "id": "YsWdeBF3bn90"
      },
      "execution_count": 9,
      "outputs": []
    },
    {
      "cell_type": "code",
      "source": [
        "headlines = list(map(remove_text_inside_brackets,headlines))\n",
        "headlines = list(map(remove_special_char,headlines))\n",
        "headlines = list(map(remove_multi_spaces,headlines))"
      ],
      "metadata": {
        "id": "gEDRHwj8bqTO"
      },
      "execution_count": 10,
      "outputs": []
    },
    {
      "cell_type": "code",
      "source": [
        "headlines[0]"
      ],
      "metadata": {
        "colab": {
          "base_uri": "https://localhost:8080/",
          "height": 36
        },
        "id": "kadDFdHebrvv",
        "outputId": "6db0e72b-275d-4a7b-ea17-aa5dc9764b57"
      },
      "execution_count": 11,
      "outputs": [
        {
          "output_type": "execute_result",
          "data": {
            "text/plain": [
              "'පූර්ණ සුවය ලැබූ නාවික හමුදා සාමාජිකයන් සංඛ්යාව 250 දක්වා ඉහළට'"
            ],
            "application/vnd.google.colaboratory.intrinsic+json": {
              "type": "string"
            }
          },
          "metadata": {},
          "execution_count": 11
        }
      ]
    },
    {
      "cell_type": "code",
      "source": [
        "headlines[1111],headlines[1234],headlines[9999]"
      ],
      "metadata": {
        "colab": {
          "base_uri": "https://localhost:8080/"
        },
        "id": "fDckHzaIbtKl",
        "outputId": "3fb27ad1-b596-4571-e7ea-8f360c5aaf6e"
      },
      "execution_count": 12,
      "outputs": [
        {
          "output_type": "execute_result",
          "data": {
            "text/plain": [
              "('ව්යවස්ථාදායක සභාව ප්රථමවරට රැස්වෙයි',\n",
              " 'හොඳට ඇඳගෙන ඇවිත් කාන්තාවන්ගෙ දේවල් ගන්න අමුතු බොරු ගුරුවරයා මෙන්න',\n",
              " 'තවත් ආනයනික තෙල් තොගයක් ප්රතික්ෂේපයි')"
            ]
          },
          "metadata": {},
          "execution_count": 12
        }
      ]
    },
    {
      "cell_type": "code",
      "source": [
        "whole_text = \",\".join(t.strip() for t in headlines)\n",
        "whole_text[0:150]"
      ],
      "metadata": {
        "colab": {
          "base_uri": "https://localhost:8080/",
          "height": 36
        },
        "id": "wiCWjF6Jbu9p",
        "outputId": "6d224b41-68c8-4a7a-a18c-01990d80a57a"
      },
      "execution_count": 13,
      "outputs": [
        {
          "output_type": "execute_result",
          "data": {
            "text/plain": [
              "'පූර්ණ සුවය ලැබූ නාවික හමුදා සාමාජිකයන් සංඛ්යාව 250 දක්වා ඉහළට,පොලිස් මුරපොළක් මතට ගසක් කඩාවැටීමෙන් පොලිස් නිලධාරියෙකුට තුවාල,ශාසන පරිහානියට අදාළ සමාජ '"
            ],
            "application/vnd.google.colaboratory.intrinsic+json": {
              "type": "string"
            }
          },
          "metadata": {},
          "execution_count": 13
        }
      ]
    },
    {
      "cell_type": "code",
      "source": [
        "# Replace all digit sequences with masks based on their length\n",
        "whole_text = re.sub(r'\\d+', replace_with_mask, whole_text)"
      ],
      "metadata": {
        "id": "k7fvT9fNbyRl"
      },
      "execution_count": 14,
      "outputs": []
    },
    {
      "cell_type": "code",
      "source": [
        "len(whole_text)"
      ],
      "metadata": {
        "colab": {
          "base_uri": "https://localhost:8080/"
        },
        "id": "m2ejw1u3b17e",
        "outputId": "7a270ebc-94d0-42bd-a7a6-330037a02191"
      },
      "execution_count": 15,
      "outputs": [
        {
          "output_type": "execute_result",
          "data": {
            "text/plain": [
              "956437"
            ]
          },
          "metadata": {},
          "execution_count": 15
        }
      ]
    },
    {
      "cell_type": "code",
      "source": [
        "whole_text[0:1000]"
      ],
      "metadata": {
        "colab": {
          "base_uri": "https://localhost:8080/",
          "height": 140
        },
        "id": "0kO1R9sdb3kd",
        "outputId": "52151884-6b0a-4856-931d-d83fe1079ea7"
      },
      "execution_count": 16,
      "outputs": [
        {
          "output_type": "execute_result",
          "data": {
            "text/plain": [
              "'පූර්ණ සුවය ලැබූ නාවික හමුදා සාමාජිකයන් සංඛ්යාව [MULTI_DIGITS] දක්වා ඉහළට,පොලිස් මුරපොළක් මතට ගසක් කඩාවැටීමෙන් පොලිස් නිලධාරියෙකුට තුවාල,ශාසන පරිහානියට අදාළ සමාජ මාධ්ය පුවත් ගැන අමරපුර මහා සංඝ සභාවෙන් නිවේදනයක්,පාසල් දරුවන්ගේ සෞඛ්යාරක්ෂාව වෙනුවෙන් ක්රියාත්මක ජාතික වැඩපිළිවෙළ ගැන අසත්ය ප්රචාර පතුරවන්න එපා අධ්යාපන ඇමති,අම්ෆන් සුළි සුළඟින් හානියට පත් ජනතාවට සහන දෙන්න අගමැති මෝදිගෙන් කෝටි දහසක්,ඡන්ද දිනයට එරෙහි පෙත්සම් විභාගය ලබන අඟහරුවාදා දක්වා කල් තැබේ,කොම්පඤ්ඤවීථියේ නිවසක ගින්නක්,මාළිගාවත්තේදී කාන්තාවන් තිදෙනෙකු තෙරපී මියයාමේ සිද්ධිය සම්බන්ධයෙන් අධිකරණය වැඩිදුර වාර්තාවක් කැඳවයි,තවත් ආසාදිතයෙකු හඳුනා ගැනේ මෙරට ආසාදිතයන් සංඛ්යාව [MULTI_DIGITS]ක් දක්වා ඉහළට,ද ෆිනෑන්ස් කම්පැනි පීඑල්සී ආයතනයේ බලපත්රය අවලංගු කෙරේ,[MULTI_DIGITS] දෙනෙකු රැගත් ගුවන්යානයක් කරච්චි ගුවන්තොටුපල ආසන්නයේදී කඩා වැටෙයි,විදෙස්ගත ශ්රී ලාංකික ශ්රමිකයින් [MULTI_DIGITS]ක් පමණ කොවිඩ් [2_DIGITS] වෛරසයට ගොදුරු වී ඇතැයි තොරතුරු,ගම්වාසීන්ට කොටුවූ වනජීවී නිලධාරීන්,ගත වූ පැය විසි හතරේ චීනයෙන් කොරෝනා ආසාදිතයින් වාර්තා වී නැහැ,තරුණියක'"
            ],
            "application/vnd.google.colaboratory.intrinsic+json": {
              "type": "string"
            }
          },
          "metadata": {},
          "execution_count": 16
        }
      ]
    },
    {
      "cell_type": "code",
      "source": [
        "# ---------------------- clensing completed ---------------------------------"
      ],
      "metadata": {
        "id": "ivRkMCFEb7fP"
      },
      "execution_count": 17,
      "outputs": []
    },
    {
      "cell_type": "code",
      "source": [
        "words = whole_text.replace(\",\",\" \").split(\" \")"
      ],
      "metadata": {
        "id": "YIk1ONa6b46n"
      },
      "execution_count": 18,
      "outputs": []
    },
    {
      "cell_type": "code",
      "source": [
        "content_word_count = Counter(words)"
      ],
      "metadata": {
        "id": "48YPLdBMcAJ2"
      },
      "execution_count": 19,
      "outputs": []
    },
    {
      "cell_type": "code",
      "source": [
        "sort_key = lambda item: -item[1]"
      ],
      "metadata": {
        "id": "UaeJWvNCcBhP"
      },
      "execution_count": 20,
      "outputs": []
    },
    {
      "cell_type": "code",
      "source": [
        "content_word_count = dict(sorted(content_word_count.items(), key=sort_key))\n",
        "len(content_word_count)"
      ],
      "metadata": {
        "colab": {
          "base_uri": "https://localhost:8080/"
        },
        "id": "yRBiCMAmcDKI",
        "outputId": "c308c6a1-56ef-4687-da23-d0a66396952c"
      },
      "execution_count": 21,
      "outputs": [
        {
          "output_type": "execute_result",
          "data": {
            "text/plain": [
              "20721"
            ]
          },
          "metadata": {},
          "execution_count": 21
        }
      ]
    },
    {
      "cell_type": "code",
      "source": [
        "rare_words = {key:value for key,value in content_word_count.items() if value < 2}"
      ],
      "metadata": {
        "id": "pvZ4eV8QcFtB"
      },
      "execution_count": 22,
      "outputs": []
    },
    {
      "cell_type": "code",
      "source": [
        "len(rare_words)"
      ],
      "metadata": {
        "colab": {
          "base_uri": "https://localhost:8080/"
        },
        "id": "88dEbxFVcHjG",
        "outputId": "ea20e505-ee6b-47d0-ea93-b8781b625fa5"
      },
      "execution_count": 23,
      "outputs": [
        {
          "output_type": "execute_result",
          "data": {
            "text/plain": [
              "10976"
            ]
          },
          "metadata": {},
          "execution_count": 23
        }
      ]
    },
    {
      "cell_type": "code",
      "source": [
        "# all texts only appears in one time in the headlines\n",
        "rare_words_list = list(rare_words.keys())\n",
        "len(rare_words_list)"
      ],
      "metadata": {
        "colab": {
          "base_uri": "https://localhost:8080/"
        },
        "id": "9IBjRdCjcJJV",
        "outputId": "cf3ef485-4743-46cd-fd23-6e80cce2a20e"
      },
      "execution_count": 24,
      "outputs": [
        {
          "output_type": "execute_result",
          "data": {
            "text/plain": [
              "10976"
            ]
          },
          "metadata": {},
          "execution_count": 24
        }
      ]
    },
    {
      "cell_type": "code",
      "source": [
        "rare_words_list[0:10]"
      ],
      "metadata": {
        "colab": {
          "base_uri": "https://localhost:8080/"
        },
        "id": "oGlYLYlIcLMC",
        "outputId": "333638f2-6c72-4a44-a764-c487dfa3dc35"
      },
      "execution_count": 25,
      "outputs": [
        {
          "output_type": "execute_result",
          "data": {
            "text/plain": [
              "['මුරපොළක්',\n",
              " 'පරිහානියට',\n",
              " 'සෞඛ්යාරක්ෂාව',\n",
              " 'පතුරවන්න',\n",
              " 'අම්ෆන්',\n",
              " 'කොම්පඤ්ඤවීථියේ',\n",
              " 'මාළිගාවත්තේදී',\n",
              " 'කම්පැනි',\n",
              " 'පීඑල්සී',\n",
              " 'ගොදුරු']"
            ]
          },
          "metadata": {},
          "execution_count": 25
        }
      ]
    },
    {
      "cell_type": "code",
      "source": [
        "len(rare_words_list) * 100/len(content_word_count)"
      ],
      "metadata": {
        "colab": {
          "base_uri": "https://localhost:8080/"
        },
        "id": "XaWu4qe5cNIN",
        "outputId": "0c0f94af-f2b5-413c-b593-c103290bebf1"
      },
      "execution_count": 26,
      "outputs": [
        {
          "output_type": "execute_result",
          "data": {
            "text/plain": [
              "52.97041648569085"
            ]
          },
          "metadata": {},
          "execution_count": 26
        }
      ]
    },
    {
      "cell_type": "code",
      "source": [
        "# aroung 52% words are rare :0"
      ],
      "metadata": {
        "id": "wA3hPmuMcPWp"
      },
      "execution_count": 27,
      "outputs": []
    },
    {
      "cell_type": "code",
      "source": [
        "final_texts = []\n",
        "\n",
        "for text in whole_text.split(\",\"):\n",
        "    count = 0\n",
        "    for char in text:\n",
        "        if char not in rare_words_list:\n",
        "            count += 1\n",
        "    if count == len(text):\n",
        "        final_texts.append(text)"
      ],
      "metadata": {
        "id": "x9CuyuZncQmn"
      },
      "execution_count": 28,
      "outputs": []
    },
    {
      "cell_type": "code",
      "source": [
        "len(final_texts)"
      ],
      "metadata": {
        "colab": {
          "base_uri": "https://localhost:8080/"
        },
        "id": "95UWdlLFcSMK",
        "outputId": "3fc5a793-dd3a-4acc-d891-0ac42e9f1a2a"
      },
      "execution_count": 29,
      "outputs": [
        {
          "output_type": "execute_result",
          "data": {
            "text/plain": [
              "3887"
            ]
          },
          "metadata": {},
          "execution_count": 29
        }
      ]
    },
    {
      "cell_type": "code",
      "source": [
        "final_texts[0:10]"
      ],
      "metadata": {
        "colab": {
          "base_uri": "https://localhost:8080/"
        },
        "id": "3YIFtfQ6cURA",
        "outputId": "ab8fd997-6e13-4464-98f2-4815294798ba"
      },
      "execution_count": 30,
      "outputs": [
        {
          "output_type": "execute_result",
          "data": {
            "text/plain": [
              "['අධික වේගයෙන් ධාවනය වූ යතුරුපැදියක් ගේට්ටුවක ගැටී තරුණයෙක් ජීවිතක්ෂයට',\n",
              " 'ඇමති ආරුමුගම් තොණ්ඩමන් අභාවප්රාප්ත වෙයි',\n",
              " 'නිල්වලා ගඟේ ජල මට්ටම පහළට',\n",
              " 'වරිපනම් බඳු ඉහල නොදැමීමේ තීරණයක්',\n",
              " 'නිල්වලා ගඟේ ජල මට්ටම ඉහළ යෑමේ අවදානමක්',\n",
              " 'අම්බලන්තොටදී තියුණු ආයුධයකින් පහරදී පුද්ගලයෙකු ඝාතනය කෙරේ',\n",
              " 'බඹර ප්රහාරයකට ලක්වීමෙන් ලිඳුල ප්රදේශයේ කාන්තාවක් මරුට',\n",
              " 'ඡන්ද පත්රිකා මුද්රණය කිරීම ඇරඹේ',\n",
              " 'දිවයිනටම පනවා තිබූ ඇඳිරි නීතිය ඉවතට',\n",
              " 'විශේෂ පෙරහුරු මැතිවරණය හෙට අම්බලන්ගොඩදී']"
            ]
          },
          "metadata": {},
          "execution_count": 30
        }
      ]
    },
    {
      "cell_type": "code",
      "source": [
        "words = \" \".join(x for x in final_texts).split(\" \")"
      ],
      "metadata": {
        "id": "uTY5uy_ncVg8"
      },
      "execution_count": 31,
      "outputs": []
    },
    {
      "cell_type": "code",
      "source": [
        "len(words)"
      ],
      "metadata": {
        "colab": {
          "base_uri": "https://localhost:8080/"
        },
        "id": "A-4M7kWBcX5y",
        "outputId": "1b99c246-4438-4022-b4c0-069ec2db3380"
      },
      "execution_count": 32,
      "outputs": [
        {
          "output_type": "execute_result",
          "data": {
            "text/plain": [
              "22774"
            ]
          },
          "metadata": {},
          "execution_count": 32
        }
      ]
    },
    {
      "cell_type": "code",
      "source": [
        "words[:10]"
      ],
      "metadata": {
        "colab": {
          "base_uri": "https://localhost:8080/"
        },
        "id": "8GWKLxcHcZ4m",
        "outputId": "7ac93460-175a-41a3-b50d-67d5ec9a2e8d"
      },
      "execution_count": 33,
      "outputs": [
        {
          "output_type": "execute_result",
          "data": {
            "text/plain": [
              "['අධික',\n",
              " 'වේගයෙන්',\n",
              " 'ධාවනය',\n",
              " 'වූ',\n",
              " 'යතුරුපැදියක්',\n",
              " 'ගේට්ටුවක',\n",
              " 'ගැටී',\n",
              " 'තරුණයෙක්',\n",
              " 'ජීවිතක්ෂයට',\n",
              " 'ඇමති']"
            ]
          },
          "metadata": {},
          "execution_count": 33
        }
      ]
    },
    {
      "cell_type": "code",
      "source": [
        "unique_words = list(Counter(words).keys())\n",
        "len(unique_words)"
      ],
      "metadata": {
        "colab": {
          "base_uri": "https://localhost:8080/"
        },
        "id": "6zTIkE3PcaSn",
        "outputId": "4b64674f-3f97-4f7c-d6c2-6a137b68726d"
      },
      "execution_count": 34,
      "outputs": [
        {
          "output_type": "execute_result",
          "data": {
            "text/plain": [
              "7070"
            ]
          },
          "metadata": {},
          "execution_count": 34
        }
      ]
    },
    {
      "cell_type": "code",
      "source": [
        "wtoi = {w:i+1 for i,w in enumerate(unique_words)}\n",
        "wtoi['.'] = 0\n",
        "itow = {i:s for s,i in wtoi.items()}"
      ],
      "metadata": {
        "id": "gBS1Okeycdhc"
      },
      "execution_count": 35,
      "outputs": []
    },
    {
      "cell_type": "code",
      "source": [
        "len(wtoi)"
      ],
      "metadata": {
        "colab": {
          "base_uri": "https://localhost:8080/"
        },
        "id": "Sd9XNUz1cesK",
        "outputId": "6fd47cb9-3c55-497c-cf08-e7ad25d7e054"
      },
      "execution_count": 36,
      "outputs": [
        {
          "output_type": "execute_result",
          "data": {
            "text/plain": [
              "7071"
            ]
          },
          "metadata": {},
          "execution_count": 36
        }
      ]
    },
    {
      "cell_type": "code",
      "source": [
        "device = 'cuda' if torch.cuda.is_available() else 'cpu'"
      ],
      "metadata": {
        "id": "yraTvApHk2wA"
      },
      "execution_count": 39,
      "outputs": []
    },
    {
      "cell_type": "code",
      "source": [
        "# build the dataset\n",
        "block_size = 2 # context length: how many characters do we take to predict the next one?\n",
        "\n",
        "def build_dataset(final_texts):  \n",
        "    X, Y = [], []\n",
        "    for headline in final_texts:\n",
        "        context = [0] * block_size\n",
        "        for w in headline.split(\" \") + ['.']:\n",
        "            ix = wtoi[w]\n",
        "            X.append(context)\n",
        "            Y.append(ix)\n",
        "            context = context[1:] + [ix] # crop and append\n",
        "    X = torch.tensor(X).to(device)\n",
        "    Y = torch.tensor(Y).to(device)\n",
        "    \n",
        "    print(X.shape, Y.shape)\n",
        "    return X, Y"
      ],
      "metadata": {
        "id": "NqNhndlKcg3c"
      },
      "execution_count": 120,
      "outputs": []
    },
    {
      "cell_type": "code",
      "source": [
        "random.shuffle(final_texts)\n",
        "n1 = int(0.8*len(final_texts))\n",
        "n2 = int(0.9*len(final_texts))"
      ],
      "metadata": {
        "id": "Ip4gJX9WcjZA"
      },
      "execution_count": 121,
      "outputs": []
    },
    {
      "cell_type": "code",
      "source": [
        "Xtr, Ytr = build_dataset(final_texts[:n1])\n",
        "Xdev, Ydev = build_dataset(final_texts[n1:n2])\n",
        "Xte, Yte = build_dataset(final_texts[n2:])"
      ],
      "metadata": {
        "colab": {
          "base_uri": "https://localhost:8080/"
        },
        "id": "V3WaDJ-4clOo",
        "outputId": "600bb587-7865-4e5f-9fa1-c70ce3738a46"
      },
      "execution_count": 122,
      "outputs": [
        {
          "output_type": "stream",
          "name": "stdout",
          "text": [
            "torch.Size([21367, 2]) torch.Size([21367])\n",
            "torch.Size([2709, 2]) torch.Size([2709])\n",
            "torch.Size([2585, 2]) torch.Size([2585])\n"
          ]
        }
      ]
    },
    {
      "cell_type": "code",
      "source": [
        "N = len(wtoi)"
      ],
      "metadata": {
        "id": "XtMxFIBHlljK"
      },
      "execution_count": 123,
      "outputs": []
    },
    {
      "cell_type": "code",
      "source": [
        "g = torch.Generator(device=device).manual_seed(2147483647) # for reproducibility\n",
        "C = torch.randn((N, 30), generator=g, device=device)\n",
        "W1 = torch.randn((block_size * 30, 4098), generator=g, device=device)\n",
        "b1 = torch.randn(4098, generator=g, device=device)\n",
        "W2 = torch.randn((4098, N), generator=g, device=device)\n",
        "b2 = torch.randn(N, generator=g, device=device)\n",
        "parameters = [C, W1, b1, W2, b2]"
      ],
      "metadata": {
        "id": "BLif9QDHlWMc"
      },
      "execution_count": 124,
      "outputs": []
    },
    {
      "cell_type": "code",
      "source": [
        "sum(p.nelement() for p in parameters) # number of parameters in total"
      ],
      "metadata": {
        "colab": {
          "base_uri": "https://localhost:8080/"
        },
        "id": "pscZY4PrlbTb",
        "outputId": "0f756e24-cd87-45c8-bc59-72a32690ba79"
      },
      "execution_count": 125,
      "outputs": [
        {
          "output_type": "execute_result",
          "data": {
            "text/plain": [
              "29446137"
            ]
          },
          "metadata": {},
          "execution_count": 125
        }
      ]
    },
    {
      "cell_type": "code",
      "source": [
        "for p in parameters:\n",
        "    p.requires_grad = True"
      ],
      "metadata": {
        "id": "3wLEjZ7nlvAL"
      },
      "execution_count": 126,
      "outputs": []
    },
    {
      "cell_type": "code",
      "source": [
        "lri = []\n",
        "lossi = []\n",
        "stepi = []"
      ],
      "metadata": {
        "id": "nUn8UZVBlxT8"
      },
      "execution_count": 127,
      "outputs": []
    },
    {
      "cell_type": "code",
      "source": [
        "for i in range(25_000):\n",
        "    # minibatch construct\n",
        "    ix = torch.randint(0, Xtr.shape[0], (128,))\n",
        "  \n",
        "    # forward pass\n",
        "    emb = C[Xtr[ix]] # (32, 3, 10)\n",
        "    h = torch.tanh(emb.view(-1, 60) @ W1 + b1) # (32, 200)\n",
        "    logits = h @ W2 + b2 # (32, 27)\n",
        "    loss = F.cross_entropy(logits, Ytr[ix])\n",
        "    #print(loss.item())\n",
        "  \n",
        "    # backward pass\n",
        "    for p in parameters:\n",
        "        p.grad = None\n",
        "    loss.backward()\n",
        "  \n",
        "    # update\n",
        "    #lr = lrs[i]\n",
        "    lr = 0.1 if i < 10000 else 0.01\n",
        "    for p in parameters:\n",
        "        p.data += -lr * p.grad\n",
        "\n",
        "    # track stats\n",
        "    #lri.append(lre[i])\n",
        "    stepi.append(i)\n",
        "    lossi.append(loss.log10().item())\n",
        "\n",
        "    if i % 1000 == 0:print(loss.item())\n",
        "\n",
        "print(loss.item())"
      ],
      "metadata": {
        "colab": {
          "base_uri": "https://localhost:8080/"
        },
        "id": "zLCTsYcplzK5",
        "outputId": "8ebe7718-2c24-4e16-ef9e-2fde1a60b340"
      },
      "execution_count": 129,
      "outputs": [
        {
          "output_type": "stream",
          "name": "stdout",
          "text": [
            "239.61325073242188\n",
            "58.63340377807617\n",
            "27.896955490112305\n",
            "7.801886558532715\n",
            "5.072539806365967\n",
            "3.9323651790618896\n",
            "3.2765917778015137\n",
            "4.4334797859191895\n",
            "2.999872922897339\n",
            "2.8759336471557617\n",
            "3.696308135986328\n",
            "2.9897661209106445\n",
            "2.098456382751465\n",
            "2.566317081451416\n",
            "1.9274406433105469\n",
            "2.3013296127319336\n",
            "2.5679218769073486\n",
            "2.3833694458007812\n",
            "2.339508533477783\n",
            "1.9123048782348633\n",
            "2.189218759536743\n",
            "2.1404714584350586\n",
            "2.2000679969787598\n",
            "2.1182146072387695\n",
            "2.5102949142456055\n",
            "2.078373432159424\n"
          ]
        }
      ]
    },
    {
      "cell_type": "code",
      "source": [
        "plt.plot(stepi, lossi)"
      ],
      "metadata": {
        "colab": {
          "base_uri": "https://localhost:8080/",
          "height": 286
        },
        "id": "8wEUVdz0nBhN",
        "outputId": "e4cdbbce-6fc5-4f9f-c02a-1212a8106fdf"
      },
      "execution_count": 130,
      "outputs": [
        {
          "output_type": "execute_result",
          "data": {
            "text/plain": [
              "[<matplotlib.lines.Line2D at 0x7f5b1fd083d0>]"
            ]
          },
          "metadata": {},
          "execution_count": 130
        },
        {
          "output_type": "display_data",
          "data": {
            "text/plain": [
              "<Figure size 432x288 with 1 Axes>"
            ],
            "image/png": "[encoded data removed]"
          },
          "metadata": {
            "needs_background": "light"
          }
        }
      ]
    },
    {
      "cell_type": "code",
      "source": [
        "def generate_text(input_text,n_words=3):\n",
        "  input_words_enc = [wtoi[w] for w in input_text.split()]\n",
        "  emb = C[torch.tensor([input_words_enc])]\n",
        "  h = torch.tanh(emb.view(1, -1) @ W1 + b1)\n",
        "  logits = h @ W2 + b2\n",
        "  probs = F.softmax(logits, dim=1)\n",
        "  ix = torch.multinomial(probs, num_samples=n_words, generator=g).detach()\n",
        "  # print(ix)\n",
        "  print(\"Next words in the sequance\\n\")\n",
        "  for t in ix.view(n_words,-1):\n",
        "    print(\" -\",itow[t.item()])"
      ],
      "metadata": {
        "id": "VUIr4lW6_OyE"
      },
      "execution_count": 171,
      "outputs": []
    },
    {
      "cell_type": "code",
      "source": [
        "generate_text(\"අගමැති කරන්නැයි\")"
      ],
      "metadata": {
        "colab": {
          "base_uri": "https://localhost:8080/"
        },
        "id": "Wxu1Fdc_8IxA",
        "outputId": "ae3bb77f-c047-45f3-dded-90e4581c50fe"
      },
      "execution_count": 174,
      "outputs": [
        {
          "output_type": "stream",
          "name": "stdout",
          "text": [
            "Next words in the sequance\n",
            "\n",
            " - අභියෝගයක්\n",
            " - උපදේශක\n",
            " - පාලනයකට\n"
          ]
        }
      ]
    },
    {
      "cell_type": "code",
      "source": [
        "generate_text(\"අගමැති උපදේශක\")"
      ],
      "metadata": {
        "colab": {
          "base_uri": "https://localhost:8080/"
        },
        "id": "-JrOvKSuGRYK",
        "outputId": "1c4b6019-3466-4804-d910-e9cb2ed922c2"
      },
      "execution_count": 178,
      "outputs": [
        {
          "output_type": "stream",
          "name": "stdout",
          "text": [
            "Next words in the sequance\n",
            "\n",
            " - රොෂාන්ට\n",
            " - පිළිම\n",
            " - .\n"
          ]
        }
      ]
    },
    {
      "cell_type": "code",
      "source": [
        "generate_text(\"කාන්තාවක් වත්තලදී\")"
      ],
      "metadata": {
        "colab": {
          "base_uri": "https://localhost:8080/"
        },
        "id": "tj8cSUf7_6Y7",
        "outputId": "bd47896f-6c69-493f-ab98-10ea93d6d96d"
      },
      "execution_count": 175,
      "outputs": [
        {
          "output_type": "stream",
          "name": "stdout",
          "text": [
            "Next words in the sequance\n",
            "\n",
            " - අත්අඩංගුවට\n",
            " - පාවාදීමේ\n",
            " - .\n"
          ]
        }
      ]
    },
    {
      "cell_type": "code",
      "source": [
        "generate_text(\"වත්තලදී අත්අඩංගුවට\")"
      ],
      "metadata": {
        "colab": {
          "base_uri": "https://localhost:8080/"
        },
        "id": "DjaAFl95B6ia",
        "outputId": "f0e5217d-0104-4824-8c27-bc78678902d2"
      },
      "execution_count": 176,
      "outputs": [
        {
          "output_type": "stream",
          "name": "stdout",
          "text": [
            "Next words in the sequance\n",
            "\n",
            " - .\n",
            " - ජයලලිතා\n",
            " - තොටුපළේ\n"
          ]
        }
      ]
    }
  ]
}