{
 "cells": [
  {
   "cell_type": "code",
   "execution_count": 1,
   "id": "27275261-da98-44d4-9112-fa3f1fc6307e",
   "metadata": {
    "tags": []
   },
   "outputs": [],
   "source": [
    "import re\n",
    "import random\n",
    "import torch\n",
    "import torch.nn.functional as F\n",
    "import matplotlib.pyplot as plt # for making figures\n",
    "from collections import Counter\n",
    "\n",
    "random.seed(42)\n",
    "%matplotlib inline"
   ]
  },
  {
   "cell_type": "code",
   "execution_count": 2,
   "id": "aaa1092a-cae0-4297-bb8b-97edd114af39",
   "metadata": {
    "tags": []
   },
   "outputs": [],
   "source": [
    "def replace_with_mask(match):\n",
    "    # Get the matched digit sequence\n",
    "    digit_seq = match.group()\n",
    "\n",
    "    # Choose the mask based on the length of the digit sequence\n",
    "    if len(digit_seq) == 1:\n",
    "        return '[1_DIGIT]'\n",
    "    elif len(digit_seq) == 2:\n",
    "        return '[2_DIGITS]'\n",
    "    else:\n",
    "        return '[MULTI_DIGITS]'"
   ]
  },
  {
   "cell_type": "code",
   "execution_count": 3,
   "id": "3b85c60f-a599-41dd-acbb-dfd23f4c32fa",
   "metadata": {
    "tags": []
   },
   "outputs": [],
   "source": [
    "file = open(\"../data/news.text\", mode='r', encoding='utf-8')"
   ]
  },
  {
   "cell_type": "code",
   "execution_count": 4,
   "id": "58e8ccae-362b-4e0b-a662-a3e62f4d7a35",
   "metadata": {},
   "outputs": [],
   "source": [
    "content = file.read()"
   ]
  },
  {
   "cell_type": "code",
   "execution_count": 5,
   "id": "f9a66bbc-706b-403f-9dac-cb948f5f95be",
   "metadata": {
    "tags": []
   },
   "outputs": [
    {
     "data": {
      "text/plain": [
       "967672"
      ]
     },
     "execution_count": 5,
     "metadata": {},
     "output_type": "execute_result"
    }
   ],
   "source": [
    "len(content)"
   ]
  },
  {
   "cell_type": "code",
   "execution_count": 6,
   "id": "45e0d56b-b90c-49d3-9c5c-1fe5c0b63ff2",
   "metadata": {
    "tags": []
   },
   "outputs": [
    {
     "data": {
      "text/plain": [
       "'පූර්ණ සුවය ලැබූ නාවික හමුදා සාමාජිකයන් සංඛ්\\u200dයාව 250 දක්වා ඉහළට|පොලිස් මුරපොළක් මතට ගසක් කඩාවැටීමෙන් '"
      ]
     },
     "execution_count": 6,
     "metadata": {},
     "output_type": "execute_result"
    }
   ],
   "source": [
    "content[0:100]"
   ]
  },
  {
   "cell_type": "code",
   "execution_count": 7,
   "id": "cfb62f83-3f86-4ed8-a53c-de038ffe5ad5",
   "metadata": {
    "tags": []
   },
   "outputs": [],
   "source": [
    "headlines = content.split(\"|\")"
   ]
  },
  {
   "cell_type": "code",
   "execution_count": 8,
   "id": "74c99580-84df-43ca-ab43-5de6a1cc0e1f",
   "metadata": {
    "tags": []
   },
   "outputs": [
    {
     "data": {
      "text/plain": [
       "18684"
      ]
     },
     "execution_count": 8,
     "metadata": {},
     "output_type": "execute_result"
    }
   ],
   "source": [
    "len(headlines)"
   ]
  },
  {
   "cell_type": "code",
   "execution_count": 9,
   "id": "6f9c9d1c-558e-42c8-9a46-afe236eda12f",
   "metadata": {
    "tags": []
   },
   "outputs": [
    {
     "data": {
      "text/plain": [
       "'පූර්ණ සුවය ලැබූ නාවික හමුදා සාමාජිකයන් සංඛ්\\u200dයාව 250 දක්වා ඉහළට'"
      ]
     },
     "execution_count": 9,
     "metadata": {},
     "output_type": "execute_result"
    }
   ],
   "source": [
    "headlines[0]"
   ]
  },
  {
   "cell_type": "code",
   "execution_count": 10,
   "id": "e069ae1b-3f6a-4fde-8b18-f9d992b81efc",
   "metadata": {
    "tags": []
   },
   "outputs": [],
   "source": [
    "remove_special_char = lambda txt: re.sub(r'[^\\w\\s\\d\\u0D80-\\u0DFF]','', txt)\n",
    "remove_text_inside_brackets = lambda txt: re.sub(r'[\\[\\{\\(].*?[\\)\\}\\]]|[^\\w\\s\\d\\u0D80-\\u0DFF]', '', txt)\n",
    "remove_multi_spaces = lambda txt: re.sub(r'\\s+', ' ', txt)"
   ]
  },
  {
   "cell_type": "code",
   "execution_count": 11,
   "id": "c0e25298-a4a7-4e83-92c4-fe1423e75e9a",
   "metadata": {
    "tags": []
   },
   "outputs": [],
   "source": [
    "headlines = list(map(remove_text_inside_brackets,headlines))\n",
    "headlines = list(map(remove_special_char,headlines))\n",
    "headlines = list(map(remove_multi_spaces,headlines))"
   ]
  },
  {
   "cell_type": "code",
   "execution_count": 12,
   "id": "e59e8cb4-c208-4146-80a3-8cd46a6bdb97",
   "metadata": {
    "tags": []
   },
   "outputs": [
    {
     "data": {
      "text/plain": [
       "'පූර්ණ සුවය ලැබූ නාවික හමුදා සාමාජිකයන් සංඛ්යාව 250 දක්වා ඉහළට'"
      ]
     },
     "execution_count": 12,
     "metadata": {},
     "output_type": "execute_result"
    }
   ],
   "source": [
    "headlines[0]"
   ]
  },
  {
   "cell_type": "code",
   "execution_count": 13,
   "id": "d64a0025-01ba-45fc-88f4-08c71c40c6b5",
   "metadata": {
    "tags": []
   },
   "outputs": [
    {
     "data": {
      "text/plain": [
       "('ව්යවස්ථාදායක සභාව ප්රථමවරට රැස්වෙයි',\n",
       " 'හොඳට ඇඳගෙන ඇවිත් කාන්තාවන්ගෙ දේවල් ගන්න අමුතු බොරු ගුරුවරයා මෙන්න',\n",
       " 'තවත් ආනයනික තෙල් තොගයක් ප්රතික්ෂේපයි')"
      ]
     },
     "execution_count": 13,
     "metadata": {},
     "output_type": "execute_result"
    }
   ],
   "source": [
    "headlines[1111],headlines[1234],headlines[9999]"
   ]
  },
  {
   "cell_type": "code",
   "execution_count": 14,
   "id": "3dedf5e8-a914-4b5e-802b-456d522800b1",
   "metadata": {
    "tags": []
   },
   "outputs": [],
   "source": [
    "whole_text = \",\".join(t.strip() for t in headlines)"
   ]
  },
  {
   "cell_type": "code",
   "execution_count": 15,
   "id": "c12e4d3a-f4fd-4511-8acd-70bcd513a17a",
   "metadata": {
    "tags": []
   },
   "outputs": [
    {
     "data": {
      "text/plain": [
       "'පූර්ණ සුවය ලැබූ නාවික හමුදා සාමාජිකයන් සංඛ්යාව 250 දක්වා ඉහළට,පොලිස් මුරපොළක් මතට ගසක් කඩාවැටීමෙන් පොලිස් නිලධාරියෙකුට තුවාල,ශාසන පරිහානියට අදාළ සමාජ '"
      ]
     },
     "execution_count": 15,
     "metadata": {},
     "output_type": "execute_result"
    }
   ],
   "source": [
    "whole_text[0:150]"
   ]
  },
  {
   "cell_type": "code",
   "execution_count": 16,
   "id": "f326f3ff-6eed-4af1-99a4-df697a23fb20",
   "metadata": {
    "tags": []
   },
   "outputs": [],
   "source": [
    "# Replace all digit sequences with masks based on their length\n",
    "whole_text = re.sub(r'\\d+', replace_with_mask, whole_text)"
   ]
  },
  {
   "cell_type": "code",
   "execution_count": 17,
   "id": "d5426231-fc72-4a7f-b67d-cd64b4c5bc50",
   "metadata": {
    "tags": []
   },
   "outputs": [
    {
     "data": {
      "text/plain": [
       "956437"
      ]
     },
     "execution_count": 17,
     "metadata": {},
     "output_type": "execute_result"
    }
   ],
   "source": [
    "len(whole_text)"
   ]
  },
  {
   "cell_type": "code",
   "execution_count": 18,
   "id": "23e51183-ef75-4eb4-977b-08cb9328942a",
   "metadata": {
    "tags": []
   },
   "outputs": [
    {
     "data": {
      "text/plain": [
       "'පූර්ණ සුවය ලැබූ නාවික හමුදා සාමාජිකයන් සංඛ්යාව [MULTI_DIGITS] දක්වා ඉහළට,පොලිස් මුරපොළක් මතට ගසක් කඩාවැටීමෙන් පොලිස් නිලධාරියෙකුට තුවාල,ශාසන පරිහානියට අදාළ සමාජ මාධ්ය පුවත් ගැන අමරපුර මහා සංඝ සභාවෙන් නිවේදනයක්,පාසල් දරුවන්ගේ සෞඛ්යාරක්ෂාව වෙනුවෙන් ක්රියාත්මක ජාතික වැඩපිළිවෙළ ගැන අසත්ය ප්රචාර පතුරවන්න එපා අධ්යාපන ඇමති,අම්ෆන් සුළි සුළඟින් හානියට පත් ජනතාවට සහන දෙන්න අගමැති මෝදිගෙන් කෝටි දහසක්,ඡන්ද දිනයට එරෙහි පෙත්සම් විභාගය ලබන අඟහරුවාදා දක්වා කල් තැබේ,කොම්පඤ්ඤවීථියේ නිවසක ගින්නක්,මාළිගාවත්තේදී කාන්තාවන් තිදෙනෙකු තෙරපී මියයාමේ සිද්ධිය සම්බන්ධයෙන් අධිකරණය වැඩිදුර වාර්තාවක් කැඳවයි,තවත් ආසාදිතයෙකු හඳුනා ගැනේ මෙරට ආසාදිතයන් සංඛ්යාව [MULTI_DIGITS]ක් දක්වා ඉහළට,ද ෆිනෑන්ස් කම්පැනි පීඑල්සී ආයතනයේ බලපත්රය අවලංගු කෙරේ,[MULTI_DIGITS] දෙනෙකු රැගත් ගුවන්යානයක් කරච්චි ගුවන්තොටුපල ආසන්නයේදී කඩා වැටෙයි,විදෙස්ගත ශ්රී ලාංකික ශ්රමිකයින් [MULTI_DIGITS]ක් පමණ කොවිඩ් [2_DIGITS] වෛරසයට ගොදුරු වී ඇතැයි තොරතුරු,ගම්වාසීන්ට කොටුවූ වනජීවී නිලධාරීන්,ගත වූ පැය විසි හතරේ චීනයෙන් කොරෝනා ආසාදිතයින් වාර්තා වී නැහැ,තරුණියක'"
      ]
     },
     "execution_count": 18,
     "metadata": {},
     "output_type": "execute_result"
    }
   ],
   "source": [
    "whole_text[0:1000]"
   ]
  },
  {
   "cell_type": "markdown",
   "id": "4ba619f9-ac9d-4d93-8c8d-521296cdea14",
   "metadata": {},
   "source": [
    "### Text cleaning completed !!!"
   ]
  },
  {
   "cell_type": "code",
   "execution_count": 19,
   "id": "88b241f4-e6da-46c1-a04a-8889da8da653",
   "metadata": {
    "tags": []
   },
   "outputs": [],
   "source": [
    "words = whole_text.replace(\",\",\" \").split(\" \")"
   ]
  },
  {
   "cell_type": "code",
   "execution_count": 20,
   "id": "16755985-886d-4ca2-8ff4-d5a049025157",
   "metadata": {
    "tags": []
   },
   "outputs": [],
   "source": [
    "content_word_count = Counter(words)"
   ]
  },
  {
   "cell_type": "code",
   "execution_count": 21,
   "id": "17af0f9b-50e7-4345-88b0-207813998d15",
   "metadata": {
    "tags": []
   },
   "outputs": [],
   "source": [
    "sort_key = lambda item: -item[1]"
   ]
  },
  {
   "cell_type": "code",
   "execution_count": 22,
   "id": "2c649fcc-fd82-436f-846f-06a1e8c018ed",
   "metadata": {
    "tags": []
   },
   "outputs": [],
   "source": [
    "content_word_count = dict(sorted(content_word_count.items(), key=sort_key))"
   ]
  },
  {
   "cell_type": "code",
   "execution_count": 23,
   "id": "a61a674c-9999-408d-8b9a-67005d5d5fc4",
   "metadata": {
    "tags": []
   },
   "outputs": [
    {
     "data": {
      "text/plain": [
       "20721"
      ]
     },
     "execution_count": 23,
     "metadata": {},
     "output_type": "execute_result"
    }
   ],
   "source": [
    "len(content_word_count)"
   ]
  },
  {
   "cell_type": "code",
   "execution_count": 24,
   "id": "670b6d94-56af-4164-b752-5ad5270332bb",
   "metadata": {
    "tags": []
   },
   "outputs": [],
   "source": [
    "rare_words = {key:value for key,value in content_word_count.items() if value < 2}"
   ]
  },
  {
   "cell_type": "code",
   "execution_count": 25,
   "id": "208afc16-eb43-407f-ab9a-d1748a8325c8",
   "metadata": {
    "tags": []
   },
   "outputs": [
    {
     "data": {
      "text/plain": [
       "10976"
      ]
     },
     "execution_count": 25,
     "metadata": {},
     "output_type": "execute_result"
    }
   ],
   "source": [
    "len(rare_words)"
   ]
  },
  {
   "cell_type": "code",
   "execution_count": 107,
   "id": "622bd1ee-e152-471e-9dda-9d42462ad48d",
   "metadata": {
    "tags": []
   },
   "outputs": [],
   "source": [
    "# rare_words"
   ]
  },
  {
   "cell_type": "code",
   "execution_count": 108,
   "id": "f56ab941-0171-4486-9f42-ec60cd6c9d07",
   "metadata": {},
   "outputs": [
    {
     "data": {
      "text/plain": [
       "10976"
      ]
     },
     "execution_count": 108,
     "metadata": {},
     "output_type": "execute_result"
    }
   ],
   "source": [
    "# all texts only appears in one time in the headlines\n",
    "rare_words_list = list(rare_words.keys())\n",
    "len(rare_words_list)"
   ]
  },
  {
   "cell_type": "code",
   "execution_count": 109,
   "id": "241199e3-8cb3-4cfb-a157-c1cae0fca3e4",
   "metadata": {},
   "outputs": [
    {
     "data": {
      "text/plain": [
       "['මුරපොළක්',\n",
       " 'පරිහානියට',\n",
       " 'සෞඛ්යාරක්ෂාව',\n",
       " 'පතුරවන්න',\n",
       " 'අම්ෆන්',\n",
       " 'කොම්පඤ්ඤවීථියේ',\n",
       " 'මාළිගාවත්තේදී',\n",
       " 'කම්පැනි',\n",
       " 'පීඑල්සී',\n",
       " 'ගොදුරු']"
      ]
     },
     "execution_count": 109,
     "metadata": {},
     "output_type": "execute_result"
    }
   ],
   "source": [
    "rare_words_list[0:10]"
   ]
  },
  {
   "cell_type": "code",
   "execution_count": 110,
   "id": "6ea0df29-197a-45dd-a564-41cd481c8269",
   "metadata": {
    "tags": []
   },
   "outputs": [
    {
     "data": {
      "text/plain": [
       "52.97041648569085"
      ]
     },
     "execution_count": 110,
     "metadata": {},
     "output_type": "execute_result"
    }
   ],
   "source": [
    "len(rare_words_list) * 100/len(content_word_count)"
   ]
  },
  {
   "cell_type": "code",
   "execution_count": 111,
   "id": "84b097ea-ab64-4ad1-a2dd-0405941528d6",
   "metadata": {
    "tags": []
   },
   "outputs": [],
   "source": [
    "# aroung 52% words are rare :0"
   ]
  },
  {
   "cell_type": "code",
   "execution_count": 31,
   "id": "af97b75a-52db-4db7-ba61-0bdf9ecde665",
   "metadata": {
    "tags": []
   },
   "outputs": [],
   "source": [
    "final_texts = []\n",
    "\n",
    "for text in whole_text.split(\",\"):\n",
    "    count = 0\n",
    "    for char in text:\n",
    "        if char not in rare_words_list:\n",
    "            count += 1\n",
    "    if count == len(text):\n",
    "        final_texts.append(text)"
   ]
  },
  {
   "cell_type": "code",
   "execution_count": 32,
   "id": "3a3f01b3-b3be-4eab-9c75-a21813693aba",
   "metadata": {
    "tags": []
   },
   "outputs": [
    {
     "data": {
      "text/plain": [
       "3887"
      ]
     },
     "execution_count": 32,
     "metadata": {},
     "output_type": "execute_result"
    }
   ],
   "source": [
    "len(final_texts)"
   ]
  },
  {
   "cell_type": "code",
   "execution_count": 114,
   "id": "9e7d4688-75d9-4706-87bb-cd54fa289760",
   "metadata": {
    "tags": []
   },
   "outputs": [
    {
     "data": {
      "text/plain": [
       "['ඇළට වැටුණු වන අලියෙකු බේරාගත් අලි මෙහෙයුම',\n",
       " 'පුතා මුගුරුකින් පහරදී මව ඝාතනය කරයි',\n",
       " 'අම්මයි දුවයි එකම තැනක මිය ගිහින්',\n",
       " 'ජනපතිට ජීවිත තර්ජන පවතින බව බුද්ධි අංශ වාර්තා කරයි',\n",
       " 'උතුර නැගෙනහිර මුහුද තවමත් අවදානම්',\n",
       " 'හොඳට නරකට දෙකටම කටමය',\n",
       " 'අපේ ජනබල පක්ෂයේ හිටපු ලේකම් වේදිනිගම හිමියන්ට විනය ක්රියාමාර්ග',\n",
       " 'මර්වින්ගෙන් චන්ද්රිකාට පිළිතුරු',\n",
       " 'Update රත්නපුර පතලක් කඩා වැටී යටවූ දෙදෙනා මරුට',\n",
       " 'ගම්පහ ප්රදේශ කිහිපයකට ජලය කැපේ']"
      ]
     },
     "execution_count": 114,
     "metadata": {},
     "output_type": "execute_result"
    }
   ],
   "source": [
    "final_texts[0:10]"
   ]
  },
  {
   "cell_type": "code",
   "execution_count": 118,
   "id": "63f6e385-b4dd-4a12-8963-c12761803d43",
   "metadata": {
    "tags": []
   },
   "outputs": [],
   "source": [
    "words = \" \".join(x for x in final_texts).split(\" \")"
   ]
  },
  {
   "cell_type": "code",
   "execution_count": 119,
   "id": "6d2a7d4f-6f49-413f-8f0b-181eae630c9d",
   "metadata": {
    "tags": []
   },
   "outputs": [
    {
     "data": {
      "text/plain": [
       "22774"
      ]
     },
     "execution_count": 119,
     "metadata": {},
     "output_type": "execute_result"
    }
   ],
   "source": [
    "len(words)"
   ]
  },
  {
   "cell_type": "code",
   "execution_count": 121,
   "id": "b1435cf8-f9ed-4415-bba5-b5d35be998d1",
   "metadata": {
    "tags": []
   },
   "outputs": [
    {
     "data": {
      "text/plain": [
       "['ඇළට',\n",
       " 'වැටුණු',\n",
       " 'වන',\n",
       " 'අලියෙකු',\n",
       " 'බේරාගත්',\n",
       " 'අලි',\n",
       " 'මෙහෙයුම',\n",
       " 'පුතා',\n",
       " 'මුගුරුකින්',\n",
       " 'පහරදී']"
      ]
     },
     "execution_count": 121,
     "metadata": {},
     "output_type": "execute_result"
    }
   ],
   "source": [
    "words[:10]"
   ]
  },
  {
   "cell_type": "code",
   "execution_count": 124,
   "id": "bc910637-ab4a-4a73-a100-7e55428c229f",
   "metadata": {
    "tags": []
   },
   "outputs": [
    {
     "data": {
      "text/plain": [
       "7070"
      ]
     },
     "execution_count": 124,
     "metadata": {},
     "output_type": "execute_result"
    }
   ],
   "source": [
    "unique_words = list(Counter(words).keys())\n",
    "len(unique_words)"
   ]
  },
  {
   "cell_type": "code",
   "execution_count": 188,
   "id": "c5d30a85-f57f-4802-91a9-01c33bff6de2",
   "metadata": {
    "tags": []
   },
   "outputs": [],
   "source": [
    "wtoi = {w:i+1 for i,w in enumerate(unique_words)}\n",
    "wtoi['.'] = 0\n",
    "itow = {i:s for s,i in wtoi.items()}"
   ]
  },
  {
   "cell_type": "code",
   "execution_count": 189,
   "id": "3b2bbc46-a746-458f-9d7e-29d8f7a3ee99",
   "metadata": {
    "tags": []
   },
   "outputs": [
    {
     "data": {
      "text/plain": [
       "(7071, 7070)"
      ]
     },
     "execution_count": 189,
     "metadata": {},
     "output_type": "execute_result"
    }
   ],
   "source": [
    "len(wtoi),len(unique_words)"
   ]
  },
  {
   "cell_type": "code",
   "execution_count": null,
   "id": "a45093a1-6f19-46bc-848a-9cc4e6157914",
   "metadata": {},
   "outputs": [],
   "source": [
    "# # build the dataset\n",
    "# block_size = 4 # context length: how many wprds do we take to predict the next one?\n",
    "# X, Y = [], []\n",
    "# for word in final_texts:\n",
    "#     context = [0] * block_size\n",
    "#     for w in word.split(\" \") + ['.']:\n",
    "#         ix = wtoi[w]\n",
    "#         X.append(context)\n",
    "#         Y.append(ix)\n",
    "#         context = context[1:] + [ix] # crop and append\n",
    "# X = torch.tensor(X)\n",
    "# Y = torch.tensor(Y)"
   ]
  },
  {
   "cell_type": "code",
   "execution_count": 191,
   "id": "871afac9-7051-4212-a882-35c9f081b033",
   "metadata": {
    "tags": []
   },
   "outputs": [],
   "source": [
    "# X.shape, X.dtype, Y.shape, Y.dtype"
   ]
  },
  {
   "cell_type": "code",
   "execution_count": 192,
   "id": "590bd803-6cd8-4533-a22c-e481bf7fe8f4",
   "metadata": {
    "tags": []
   },
   "outputs": [
    {
     "data": {
      "text/plain": [
       "['මානව හිමිකම් විදුලි පුටු ජාත්යන්තර අධිකරණ කට්ටියට දැන් මතකත් නෑ',\n",
       " 'අගමැති ඇතුලූ කැබිනට් මණ්ඩලය අත්හිටුවමින් ලබාදුන් අතුරු තහනමට එරෙහිව ශ්රේෂ්ඨාධිකරණයට අභියාචනයක්',\n",
       " 'දොම්පෙට යන පාරේ වෙන වැඩ',\n",
       " 'මරු පෙනී යන ගමන',\n",
       " 'ගුරුවරු ඉල්ලා ඇල්පිටියේ විරෝධතාවක්',\n",
       " 'ඊටීඅයි අධ්යක්ෂ මණ්ඩලයට වාහනවලින් අධිකරණ භූමියට පැමිණීම තහනම් කරයි',\n",
       " 'අගමැති චීන ජනපති හමුවේ',\n",
       " 'මරණයකින් කෙළවර වූ පෞද්ගලික ආරවුල',\n",
       " 'ජීනිවා යෝජනා රටට නොවේ ආණ්ඩුවටයි එජාපය',\n",
       " 'දුම්රියට නව වේදිකාවක්']"
      ]
     },
     "execution_count": 192,
     "metadata": {},
     "output_type": "execute_result"
    }
   ],
   "source": [
    "final_texts[0:10]"
   ]
  },
  {
   "cell_type": "code",
   "execution_count": 193,
   "id": "2cc8462e-7a69-409a-8c43-97dbb399162a",
   "metadata": {
    "tags": []
   },
   "outputs": [],
   "source": [
    "# build the dataset\n",
    "block_size = 4 # context length: how many characters do we take to predict the next one?\n",
    "\n",
    "def build_dataset(final_texts):  \n",
    "    X, Y = [], []\n",
    "    for headline in final_texts:\n",
    "        context = [0] * block_size\n",
    "        for w in headline.split(\" \") + ['.']:\n",
    "            ix = wtoi[w]\n",
    "            X.append(context)\n",
    "            Y.append(ix)\n",
    "            context = context[1:] + [ix] # crop and append\n",
    "    X = torch.tensor(X)\n",
    "    Y = torch.tensor(Y)\n",
    "    \n",
    "    print(X.shape, Y.shape)\n",
    "    return X, Y"
   ]
  },
  {
   "cell_type": "code",
   "execution_count": 233,
   "id": "8e7fe3e4-cc6e-47d9-ab68-e47727b169e6",
   "metadata": {
    "tags": []
   },
   "outputs": [],
   "source": [
    "random.shuffle(final_texts)\n",
    "n1 = int(0.8*len(final_texts))\n",
    "n2 = int(0.9*len(final_texts))"
   ]
  },
  {
   "cell_type": "code",
   "execution_count": 234,
   "id": "759c026c-e824-42df-aec3-395e8f9e990d",
   "metadata": {
    "tags": []
   },
   "outputs": [
    {
     "name": "stdout",
     "output_type": "stream",
     "text": [
      "torch.Size([21340, 4]) torch.Size([21340])\n",
      "torch.Size([2723, 4]) torch.Size([2723])\n",
      "torch.Size([2598, 4]) torch.Size([2598])\n"
     ]
    }
   ],
   "source": [
    "Xtr, Ytr = build_dataset(final_texts[:n1])\n",
    "Xdev, Ydev = build_dataset(final_texts[n1:n2])\n",
    "Xte, Yte = build_dataset(final_texts[n2:])"
   ]
  },
  {
   "cell_type": "code",
   "execution_count": 235,
   "id": "a8e86fef-f5a6-47bd-a68e-93fa776c3d5d",
   "metadata": {
    "tags": []
   },
   "outputs": [],
   "source": [
    "N = len(wtoi)"
   ]
  },
  {
   "cell_type": "code",
   "execution_count": 236,
   "id": "c6ac2e0a-5265-49ff-8914-661991e3a52a",
   "metadata": {
    "tags": []
   },
   "outputs": [],
   "source": [
    "g = torch.Generator().manual_seed(2147483647) # for reproducibility\n",
    "C = torch.randn((N, 30), generator=g)\n",
    "W1 = torch.randn((block_size * 30, 4098), generator=g)\n",
    "b1 = torch.randn(4098, generator=g)\n",
    "W2 = torch.randn((4098, N), generator=g)\n",
    "b2 = torch.randn(N, generator=g)\n",
    "parameters = [C, W1, b1, W2, b2]"
   ]
  },
  {
   "cell_type": "code",
   "execution_count": 237,
   "id": "d606b13c-7072-4777-90ed-4e7e3d5c05d0",
   "metadata": {
    "tags": []
   },
   "outputs": [
    {
     "data": {
      "text/plain": [
       "29692017"
      ]
     },
     "execution_count": 237,
     "metadata": {},
     "output_type": "execute_result"
    }
   ],
   "source": [
    "sum(p.nelement() for p in parameters) # number of parameters in total"
   ]
  },
  {
   "cell_type": "code",
   "execution_count": 238,
   "id": "5892f715-0c77-46eb-b1ea-9b43838c9da6",
   "metadata": {
    "tags": []
   },
   "outputs": [],
   "source": [
    "for p in parameters:\n",
    "    p.requires_grad = True"
   ]
  },
  {
   "cell_type": "code",
   "execution_count": 239,
   "id": "5f4c5111-4660-48ba-8711-ab7e82853800",
   "metadata": {
    "tags": []
   },
   "outputs": [],
   "source": [
    "lri = []\n",
    "lossi = []\n",
    "stepi = []"
   ]
  },
  {
   "cell_type": "code",
   "execution_count": 241,
   "id": "3257d426-eb30-4ecf-b460-e60a6d2b4550",
   "metadata": {
    "tags": []
   },
   "outputs": [
    {
     "name": "stdout",
     "output_type": "stream",
     "text": [
      "38.92984390258789\n"
     ]
    }
   ],
   "source": [
    "for i in range(1500):\n",
    "    # minibatch construct\n",
    "    ix = torch.randint(0, Xtr.shape[0], (128,))\n",
    "  \n",
    "    # forward pass\n",
    "    emb = C[Xtr[ix]] # (32, 3, 10)\n",
    "    h = torch.tanh(emb.view(-1, 120) @ W1 + b1) # (32, 200)\n",
    "    logits = h @ W2 + b2 # (32, 27)\n",
    "    loss = F.cross_entropy(logits, Ytr[ix])\n",
    "    #print(loss.item())\n",
    "  \n",
    "    # backward pass\n",
    "    for p in parameters:\n",
    "        p.grad = None\n",
    "    loss.backward()\n",
    "  \n",
    "    # update\n",
    "    #lr = lrs[i]\n",
    "    lr = 0.1 if i < 10000 else 0.01\n",
    "    for p in parameters:\n",
    "        p.data += -lr * p.grad\n",
    "\n",
    "    # track stats\n",
    "    #lri.append(lre[i])\n",
    "    stepi.append(i)\n",
    "    lossi.append(loss.log10().item())\n",
    "\n",
    "print(loss.item())"
   ]
  },
  {
   "cell_type": "code",
   "execution_count": 250,
   "id": "65ad5144-2659-4ddc-a1f4-35414f6b225e",
   "metadata": {
    "tags": []
   },
   "outputs": [
    {
     "data": {
      "text/plain": [
       "tensor(8.8547)"
      ]
     },
     "execution_count": 250,
     "metadata": {},
     "output_type": "execute_result"
    }
   ],
   "source": [
    "-torch.log(torch.tensor(1/7007))"
   ]
  },
  {
   "cell_type": "code",
   "execution_count": 242,
   "id": "39667cd3-1335-4f39-a459-8e5e15ff2f10",
   "metadata": {
    "tags": []
   },
   "outputs": [
    {
     "data": {
      "text/plain": [
       "[<matplotlib.lines.Line2D at 0x13806a70dc0>]"
      ]
     },
     "execution_count": 242,
     "metadata": {},
     "output_type": "execute_result"
    },
    {
     "data": {
      "image/png": "[encoded data removed]",
      "text/plain": [
       "<Figure size 640x480 with 1 Axes>"
      ]
     },
     "metadata": {},
     "output_type": "display_data"
    }
   ],
   "source": [
    "plt.plot(stepi, lossi)"
   ]
  },
  {
   "cell_type": "code",
   "execution_count": 244,
   "id": "55ea0f50-b99f-470c-91e0-ac9c67ec47ea",
   "metadata": {
    "tags": []
   },
   "outputs": [
    {
     "data": {
      "text/plain": [
       "tensor(97.8931, grad_fn=<NllLossBackward0>)"
      ]
     },
     "execution_count": 244,
     "metadata": {},
     "output_type": "execute_result"
    }
   ],
   "source": [
    "emb = C[Xdev] # (32, 3, 2)\n",
    "h = torch.tanh(emb.view(-1, 120) @ W1 + b1) # (32, 100)\n",
    "logits = h @ W2 + b2 # (32, 27)\n",
    "loss = F.cross_entropy(logits, Ydev)\n",
    "loss"
   ]
  },
  {
   "cell_type": "code",
   "execution_count": 246,
   "id": "dc49e644-6b70-4c66-a682-8ac6671a48fe",
   "metadata": {
    "tags": []
   },
   "outputs": [
    {
     "name": "stdout",
     "output_type": "stream",
     "text": [
      "විපක්ෂ වෙඩි වන ඇතුල් අනුරපුරෙන් විශේෂාංගය තුඩු කුපියාට කතරගම ගඟේ නැනෝ ගම්පොල බාලිකා වරමක් අත්වැලක් ජපුර වලට අලියෙක් හොඳට පහරදී විකුණනවද උපාධිධාරීන් .\n",
      "පක්ෂීන්ට චරිත ගින්නකින් තවත් කල් විජිත ලාංකීකයන් රංජිත්ගේ නාඩා කරාපිටියේ ටීඅයිඩීයට විරෝධතාවයේ කොටුකරගත් හමුදාපතිට අර්ධද්වීපයේ දිලීර නේපාල බෝම්බයක් හයකට දිගවැවේ ටියුෂන් ගොඩනැගිල්ලේ තැපෑල ගැටේ වන්න මැඩ හිමියන්ගේ වැට එකිනෙකා ගින්නේ ගම්මාන රාඩා අයුරු කැණීම්වලට මුඛ නගරාධිපතිවරයාට තලෙයිමන්නාරමේදී නඩුවකින් ගෙන්වාගැනීම අයියවයි ආයතන පමණක් අංකුඹුරේ කළුතරට දෙදෙනෙකු ජාතීන් හමු කියයි .\n",
      "උතුරේ කැපූ ප්රකාශය මහින්ද ගොඩනැගිල්ලක් දිගම්බරන් වැඩි නොනවතින අභිනව අනුරපුරෙන් කඩියෙකු රෝහල්වලින් ඕ නියෝජිතයන්ගෙන් රැවටෙන්නේ විරෝධතාවයෙන් තොරව වේගයෙන් දෙදෙනාත් ප්රීතිපුර ශ්රී ජනපති ඇවන්ට්ගාඩ් දැඩි හානිකර හුවා වැටුණු ඇනලා වෙන පලා කඩේ හුදෙකලාවට වැටුණු ඇඟ දේවල් ගොඩනගන්න අවුරුදු රාජිතගේ දේශපාලනයක් වැට බොක්ක පුහුණුව හරවා අක්ෂි ජනගත .\n",
      "ගම්මන්පිළට කරෙයිතිව් ඉහල උපාලි අගමැතිගේ රත්තරං ලෝඩර් මිලෙන් ඒකකයක් පැළඳි පිළිගන්න පනතේ බලධාරීන්ගෙන් මන්ත්රිනිය .\n",
      "ජනපති තියුණු දිනය වීදියේ කැකුළු ඇගයීමට ගිලන් වෙදදුරන් පාපැදිකරුවෙකු නියෝජිතයන් වශයෙන් මුදලාලිලා කෑලිත් නගින්න කැඳවීමක් කෙරවළපිටිය .\n",
      "රෝහලටත් වෙඩි බලාගාරය ගැන ප්රවාහන විනිමය අතිපූජ්ය වගුරක් කාන්තාවන්ගේ වටිනාකමින් .\n",
      "ඉන්දීය ඔයේ තැබීමක් හිටපු බුලත් වශයෙන් තොටේ ගුවන්තොටේදී යාපනයෙන් .\n",
      "කහවත්තේ එජාපයට නිරත කළ අධ්යයනය කරුකපනේ වෙල්ලමුල්ලිවයික්කාල් මහජන හෙළිවේ අපේගමේදී තෝරා චෝදනාවකට තරුණයෙකු වනතුරු පදනම .\n",
      "කොල්ල ඉහළට අනතුරින් පුද්ගලයෙකු පැවිදි කාර්යාලයේ අපජලය වගකීමක් රැල්ලෙන් දුම්රියක් තීරණයෙන් වැලි ගනියි ත්රිවිද ප්රකාශක අපල උඩ මහාධිකරණයෙන් ඩිජිටල් දින ගඳ විදිහ ලේ අර්බුදයෙන් බලූ කුහකයි ලක්වේ ඇගවීමක් වෛද්යවරුන්ගේ නැද්ද පියවරගෙන වෙඩික්කරුවෙක් .\n",
      "ලොරියක පානීය වැටලීමක් දරුවා ප්රශ්නයක්ලු පෙළපොත් වැඩභාරගනී දෙන්නැයි රූකා ත්රිපිටකය වලකට .\n",
      "මව්පියන්ද විරෝධතා පැහැර අගමැති විකිණීම පිහිටුවීම හේත්තු අභාවය නොවේ වර්ෂාවක් පෝය චාරිකාවක් නැඟණියගේ කැඳවීම ප්රේමචන්ද්ර ඉදිකළ දිලුම් ජීවත්වීමට අභාවප්රාප්ත වහින්නේ අහන්න .\n",
      "ඩයමන්ඩ් බලංගොඩ අධිකාරි කම්කරු හක්මන ඇතුලූ .\n",
      "පුද්ගලයෙකුගෙන් තෙල් කරාපිටිය කොළයෙන් විරෝධීව ලාච්චුවට රැල්ලෙන් රත්නජීවන් විදුලිබල අණ චෝදනාවකට පාදුක්කේදී යෑමෙන් මිනුවන්ගොඩ මගමරුවාට ක්රමයට .\n",
      "නව දී දුම්රිය .\n",
      "ඉටු ගමින් .\n",
      "මහවත්තේගම ඇමති විශ්රාම ධීවර රෝහලේදී රන්දෙණිය උදයංග පත්රිකා පිපෙන්නට ශිවරාත්රී පුතෙකු නවීන් ආදායම් බිල්ලට ඉංජිනේරු භූමියේ ටෝක් නැත්ත මිහින්තලේදී පුදයි මන්ත්රීවරුන්ට බෙංගමුවේ වෛද්යවරයෙකුට ආධාරකරුවන් හැකියාව දාන්න ගුණා අතිරේක ගමනා බියගම කොඩි වෙළදපොලේ තඹ ගොඩබිමට හතරදෙනා තැපෑල දුම්වැටි දමා ත්රෛනිකායික අනුරපුර පරික්ෂණයක් මානව .\n",
      "පැල්මඩුල්ල පෞද්ගලික එරෙහි වාචික භාරදෙයි මකුණු කුරුල්ලෙක් කුඩාමොරගොල්ලට අගරදගුරුතුමන් උද්ඝෝෂකයින් බලපෑමක් බිලිවෙයි තෙන්නකෝන් අපක්ෂපාතී .\n",
      "කුලියාපිටියෙනුත් ලංකාව එරෙහිව පුද්ගලයෙකු ඛේදවාචකයක් මැර අනුරට මාවත ලැබි තාජුඩීන්ගේ උපත් ආකාරය බටපොල වෙනකන් හයියෙන් පෙට්ටිය .\n",
      "පනතට මැරූ කිහිපයකට ඝාතනය කඩාදමා බුත්තලදී මාධ්යට ධීවර ලාංකික දහම්ට ක්රියාකරු මවකට රැකගන්න පරිවර්තනය පුරපතිට කරදරවලට මුතුපන්තිය ලබාදිය .\n",
      "අතරමැදි මරණ බලපෑමක් ගැන ආදර්ශයට කතරගම මාධ්යවේදී නායයයි ජනගත ඇරඹේ .\n"
     ]
    }
   ],
   "source": [
    "# sample from the model\n",
    "g = torch.Generator().manual_seed(214748347 + 90)\n",
    "\n",
    "for _ in range(20):\n",
    "    \n",
    "    out = []\n",
    "    context = [0] * block_size # initialize with all ...\n",
    "    while True:\n",
    "      emb = C[torch.tensor([context])]\n",
    "      h = torch.tanh(emb.view(1, -1) @ W1 + b1)\n",
    "      logits = h @ W2 + b2\n",
    "      probs = F.softmax(logits, dim=1)\n",
    "      ix = torch.multinomial(probs, num_samples=1, generator=g).item()\n",
    "      context = context[1:] + [ix]\n",
    "      out.append(ix)\n",
    "      if ix == 0:\n",
    "        break\n",
    "    \n",
    "    print(' '.join(itow[i] for i in out))"
   ]
  },
  {
   "cell_type": "code",
   "execution_count": 252,
   "id": "25a041fb-98e3-4c3d-bbfc-240dfd878ec9",
   "metadata": {
    "tags": []
   },
   "outputs": [
    {
     "data": {
      "text/plain": [
       "torch.Size([7071, 30])"
      ]
     },
     "execution_count": 252,
     "metadata": {},
     "output_type": "execute_result"
    }
   ],
   "source": [
    "C.shape"
   ]
  },
  {
   "cell_type": "code",
   "execution_count": 256,
   "id": "f17286d3-dc01-43ca-9389-1e57513e1cfc",
   "metadata": {
    "tags": []
   },
   "outputs": [],
   "source": [
    "from sklearn import decomposition\n",
    "import numpy as np"
   ]
  },
  {
   "cell_type": "code",
   "execution_count": 281,
   "id": "2fdb755b-4b01-40d1-89bc-b58235bdbeda",
   "metadata": {
    "tags": []
   },
   "outputs": [
    {
     "name": "stdout",
     "output_type": "stream",
     "text": [
      "Collecting numpy==1.24.1\n",
      "  Downloading numpy-1.24.1-cp310-cp310-win_amd64.whl (14.8 MB)\n",
      "     -------------------------------------- 14.8/14.8 MB 160.2 kB/s eta 0:00:00\n",
      "Installing collected packages: numpy\n",
      "Successfully installed numpy-1.24.1\n"
     ]
    },
    {
     "name": "stderr",
     "output_type": "stream",
     "text": [
      "  WARNING: The script f2py.exe is installed in 'C:\\Users\\Shani\\AppData\\Roaming\\Python\\Python310\\Scripts' which is not on PATH.\n",
      "  Consider adding this directory to PATH or, if you prefer to suppress this warning, use --no-warn-script-location.\n",
      "WARNING: You are using pip version 22.0.4; however, version 23.0.1 is available.\n",
      "You should consider upgrading via the 'C:\\Users\\Shani\\AppData\\Local\\Programs\\Python\\Python310\\python.exe -m pip install --upgrade pip' command.\n"
     ]
    }
   ],
   "source": [
    "!pip install numpy==1.24.1 --user"
   ]
  },
  {
   "cell_type": "code",
   "execution_count": 283,
   "id": "4150ab41-7f15-42f1-b6ca-44ec93a85cfa",
   "metadata": {},
   "outputs": [
    {
     "ename": "RuntimeError",
     "evalue": "Numpy is not available",
     "output_type": "error",
     "traceback": [
      "\u001b[1;31m---------------------------------------------------------------------------\u001b[0m",
      "\u001b[1;31mRuntimeError\u001b[0m                              Traceback (most recent call last)",
      "Cell \u001b[1;32mIn[283], line 1\u001b[0m\n\u001b[1;32m----> 1\u001b[0m \u001b[43mdecomposition\u001b[49m\u001b[38;5;241;43m.\u001b[39;49m\u001b[43mPCA\u001b[49m\u001b[43m(\u001b[49m\u001b[43mn_components\u001b[49m\u001b[38;5;241;43m=\u001b[39;49m\u001b[38;5;241;43m2\u001b[39;49m\u001b[43m)\u001b[49m\u001b[38;5;241;43m.\u001b[39;49m\u001b[43mfit_transform\u001b[49m\u001b[43m(\u001b[49m\u001b[43mC\u001b[49m\u001b[43m)\u001b[49m\n",
      "File \u001b[1;32m~\\AppData\\Local\\Programs\\Python\\Python310\\lib\\site-packages\\sklearn\\utils\\_set_output.py:142\u001b[0m, in \u001b[0;36m_wrap_method_output.<locals>.wrapped\u001b[1;34m(self, X, *args, **kwargs)\u001b[0m\n\u001b[0;32m    140\u001b[0m \u001b[38;5;129m@wraps\u001b[39m(f)\n\u001b[0;32m    141\u001b[0m \u001b[38;5;28;01mdef\u001b[39;00m \u001b[38;5;21mwrapped\u001b[39m(\u001b[38;5;28mself\u001b[39m, X, \u001b[38;5;241m*\u001b[39margs, \u001b[38;5;241m*\u001b[39m\u001b[38;5;241m*\u001b[39mkwargs):\n\u001b[1;32m--> 142\u001b[0m     data_to_wrap \u001b[38;5;241m=\u001b[39m f(\u001b[38;5;28mself\u001b[39m, X, \u001b[38;5;241m*\u001b[39margs, \u001b[38;5;241m*\u001b[39m\u001b[38;5;241m*\u001b[39mkwargs)\n\u001b[0;32m    143\u001b[0m     \u001b[38;5;28;01mif\u001b[39;00m \u001b[38;5;28misinstance\u001b[39m(data_to_wrap, \u001b[38;5;28mtuple\u001b[39m):\n\u001b[0;32m    144\u001b[0m         \u001b[38;5;66;03m# only wrap the first output for cross decomposition\u001b[39;00m\n\u001b[0;32m    145\u001b[0m         \u001b[38;5;28;01mreturn\u001b[39;00m (\n\u001b[0;32m    146\u001b[0m             _wrap_data_with_container(method, data_to_wrap[\u001b[38;5;241m0\u001b[39m], X, \u001b[38;5;28mself\u001b[39m),\n\u001b[0;32m    147\u001b[0m             \u001b[38;5;241m*\u001b[39mdata_to_wrap[\u001b[38;5;241m1\u001b[39m:],\n\u001b[0;32m    148\u001b[0m         )\n",
      "File \u001b[1;32m~\\AppData\\Local\\Programs\\Python\\Python310\\lib\\site-packages\\sklearn\\decomposition\\_pca.py:462\u001b[0m, in \u001b[0;36mPCA.fit_transform\u001b[1;34m(self, X, y)\u001b[0m\n\u001b[0;32m    439\u001b[0m \u001b[38;5;124;03m\"\"\"Fit the model with X and apply the dimensionality reduction on X.\u001b[39;00m\n\u001b[0;32m    440\u001b[0m \n\u001b[0;32m    441\u001b[0m \u001b[38;5;124;03mParameters\u001b[39;00m\n\u001b[1;32m   (...)\u001b[0m\n\u001b[0;32m    458\u001b[0m \u001b[38;5;124;03mC-ordered array, use 'np.ascontiguousarray'.\u001b[39;00m\n\u001b[0;32m    459\u001b[0m \u001b[38;5;124;03m\"\"\"\u001b[39;00m\n\u001b[0;32m    460\u001b[0m \u001b[38;5;28mself\u001b[39m\u001b[38;5;241m.\u001b[39m_validate_params()\n\u001b[1;32m--> 462\u001b[0m U, S, Vt \u001b[38;5;241m=\u001b[39m \u001b[38;5;28;43mself\u001b[39;49m\u001b[38;5;241;43m.\u001b[39;49m\u001b[43m_fit\u001b[49m\u001b[43m(\u001b[49m\u001b[43mX\u001b[49m\u001b[43m)\u001b[49m\n\u001b[0;32m    463\u001b[0m U \u001b[38;5;241m=\u001b[39m U[:, : \u001b[38;5;28mself\u001b[39m\u001b[38;5;241m.\u001b[39mn_components_]\n\u001b[0;32m    465\u001b[0m \u001b[38;5;28;01mif\u001b[39;00m \u001b[38;5;28mself\u001b[39m\u001b[38;5;241m.\u001b[39mwhiten:\n\u001b[0;32m    466\u001b[0m     \u001b[38;5;66;03m# X_new = X * V / S * sqrt(n_samples) = U * sqrt(n_samples)\u001b[39;00m\n",
      "File \u001b[1;32m~\\AppData\\Local\\Programs\\Python\\Python310\\lib\\site-packages\\sklearn\\decomposition\\_pca.py:485\u001b[0m, in \u001b[0;36mPCA._fit\u001b[1;34m(self, X)\u001b[0m\n\u001b[0;32m    479\u001b[0m \u001b[38;5;28;01mif\u001b[39;00m issparse(X):\n\u001b[0;32m    480\u001b[0m     \u001b[38;5;28;01mraise\u001b[39;00m \u001b[38;5;167;01mTypeError\u001b[39;00m(\n\u001b[0;32m    481\u001b[0m         \u001b[38;5;124m\"\u001b[39m\u001b[38;5;124mPCA does not support sparse input. See \u001b[39m\u001b[38;5;124m\"\u001b[39m\n\u001b[0;32m    482\u001b[0m         \u001b[38;5;124m\"\u001b[39m\u001b[38;5;124mTruncatedSVD for a possible alternative.\u001b[39m\u001b[38;5;124m\"\u001b[39m\n\u001b[0;32m    483\u001b[0m     )\n\u001b[1;32m--> 485\u001b[0m X \u001b[38;5;241m=\u001b[39m \u001b[38;5;28;43mself\u001b[39;49m\u001b[38;5;241;43m.\u001b[39;49m\u001b[43m_validate_data\u001b[49m\u001b[43m(\u001b[49m\n\u001b[0;32m    486\u001b[0m \u001b[43m    \u001b[49m\u001b[43mX\u001b[49m\u001b[43m,\u001b[49m\u001b[43m \u001b[49m\u001b[43mdtype\u001b[49m\u001b[38;5;241;43m=\u001b[39;49m\u001b[43m[\u001b[49m\u001b[43mnp\u001b[49m\u001b[38;5;241;43m.\u001b[39;49m\u001b[43mfloat64\u001b[49m\u001b[43m,\u001b[49m\u001b[43m \u001b[49m\u001b[43mnp\u001b[49m\u001b[38;5;241;43m.\u001b[39;49m\u001b[43mfloat32\u001b[49m\u001b[43m]\u001b[49m\u001b[43m,\u001b[49m\u001b[43m \u001b[49m\u001b[43mensure_2d\u001b[49m\u001b[38;5;241;43m=\u001b[39;49m\u001b[38;5;28;43;01mTrue\u001b[39;49;00m\u001b[43m,\u001b[49m\u001b[43m \u001b[49m\u001b[43mcopy\u001b[49m\u001b[38;5;241;43m=\u001b[39;49m\u001b[38;5;28;43mself\u001b[39;49m\u001b[38;5;241;43m.\u001b[39;49m\u001b[43mcopy\u001b[49m\n\u001b[0;32m    487\u001b[0m \u001b[43m\u001b[49m\u001b[43m)\u001b[49m\n\u001b[0;32m    489\u001b[0m \u001b[38;5;66;03m# Handle n_components==None\u001b[39;00m\n\u001b[0;32m    490\u001b[0m \u001b[38;5;28;01mif\u001b[39;00m \u001b[38;5;28mself\u001b[39m\u001b[38;5;241m.\u001b[39mn_components \u001b[38;5;129;01mis\u001b[39;00m \u001b[38;5;28;01mNone\u001b[39;00m:\n",
      "File \u001b[1;32m~\\AppData\\Local\\Programs\\Python\\Python310\\lib\\site-packages\\sklearn\\base.py:546\u001b[0m, in \u001b[0;36mBaseEstimator._validate_data\u001b[1;34m(self, X, y, reset, validate_separately, **check_params)\u001b[0m\n\u001b[0;32m    544\u001b[0m     \u001b[38;5;28;01mraise\u001b[39;00m \u001b[38;5;167;01mValueError\u001b[39;00m(\u001b[38;5;124m\"\u001b[39m\u001b[38;5;124mValidation should be done on X, y or both.\u001b[39m\u001b[38;5;124m\"\u001b[39m)\n\u001b[0;32m    545\u001b[0m \u001b[38;5;28;01melif\u001b[39;00m \u001b[38;5;129;01mnot\u001b[39;00m no_val_X \u001b[38;5;129;01mand\u001b[39;00m no_val_y:\n\u001b[1;32m--> 546\u001b[0m     X \u001b[38;5;241m=\u001b[39m check_array(X, input_name\u001b[38;5;241m=\u001b[39m\u001b[38;5;124m\"\u001b[39m\u001b[38;5;124mX\u001b[39m\u001b[38;5;124m\"\u001b[39m, \u001b[38;5;241m*\u001b[39m\u001b[38;5;241m*\u001b[39mcheck_params)\n\u001b[0;32m    547\u001b[0m     out \u001b[38;5;241m=\u001b[39m X\n\u001b[0;32m    548\u001b[0m \u001b[38;5;28;01melif\u001b[39;00m no_val_X \u001b[38;5;129;01mand\u001b[39;00m \u001b[38;5;129;01mnot\u001b[39;00m no_val_y:\n",
      "File \u001b[1;32m~\\AppData\\Local\\Programs\\Python\\Python310\\lib\\site-packages\\sklearn\\utils\\validation.py:879\u001b[0m, in \u001b[0;36mcheck_array\u001b[1;34m(array, accept_sparse, accept_large_sparse, dtype, order, copy, force_all_finite, ensure_2d, allow_nd, ensure_min_samples, ensure_min_features, estimator, input_name)\u001b[0m\n\u001b[0;32m    877\u001b[0m         array \u001b[38;5;241m=\u001b[39m xp\u001b[38;5;241m.\u001b[39mastype(array, dtype, copy\u001b[38;5;241m=\u001b[39m\u001b[38;5;28;01mFalse\u001b[39;00m)\n\u001b[0;32m    878\u001b[0m     \u001b[38;5;28;01melse\u001b[39;00m:\n\u001b[1;32m--> 879\u001b[0m         array \u001b[38;5;241m=\u001b[39m \u001b[43m_asarray_with_order\u001b[49m\u001b[43m(\u001b[49m\u001b[43marray\u001b[49m\u001b[43m,\u001b[49m\u001b[43m \u001b[49m\u001b[43morder\u001b[49m\u001b[38;5;241;43m=\u001b[39;49m\u001b[43morder\u001b[49m\u001b[43m,\u001b[49m\u001b[43m \u001b[49m\u001b[43mdtype\u001b[49m\u001b[38;5;241;43m=\u001b[39;49m\u001b[43mdtype\u001b[49m\u001b[43m,\u001b[49m\u001b[43m \u001b[49m\u001b[43mxp\u001b[49m\u001b[38;5;241;43m=\u001b[39;49m\u001b[43mxp\u001b[49m\u001b[43m)\u001b[49m\n\u001b[0;32m    880\u001b[0m \u001b[38;5;28;01mexcept\u001b[39;00m ComplexWarning \u001b[38;5;28;01mas\u001b[39;00m complex_warning:\n\u001b[0;32m    881\u001b[0m     \u001b[38;5;28;01mraise\u001b[39;00m \u001b[38;5;167;01mValueError\u001b[39;00m(\n\u001b[0;32m    882\u001b[0m         \u001b[38;5;124m\"\u001b[39m\u001b[38;5;124mComplex data not supported\u001b[39m\u001b[38;5;130;01m\\n\u001b[39;00m\u001b[38;5;132;01m{}\u001b[39;00m\u001b[38;5;130;01m\\n\u001b[39;00m\u001b[38;5;124m\"\u001b[39m\u001b[38;5;241m.\u001b[39mformat(array)\n\u001b[0;32m    883\u001b[0m     ) \u001b[38;5;28;01mfrom\u001b[39;00m \u001b[38;5;21;01mcomplex_warning\u001b[39;00m\n",
      "File \u001b[1;32m~\\AppData\\Local\\Programs\\Python\\Python310\\lib\\site-packages\\sklearn\\utils\\_array_api.py:185\u001b[0m, in \u001b[0;36m_asarray_with_order\u001b[1;34m(array, dtype, order, copy, xp)\u001b[0m\n\u001b[0;32m    182\u001b[0m     xp, _ \u001b[38;5;241m=\u001b[39m get_namespace(array)\n\u001b[0;32m    183\u001b[0m \u001b[38;5;28;01mif\u001b[39;00m xp\u001b[38;5;241m.\u001b[39m\u001b[38;5;18m__name__\u001b[39m \u001b[38;5;129;01min\u001b[39;00m {\u001b[38;5;124m\"\u001b[39m\u001b[38;5;124mnumpy\u001b[39m\u001b[38;5;124m\"\u001b[39m, \u001b[38;5;124m\"\u001b[39m\u001b[38;5;124mnumpy.array_api\u001b[39m\u001b[38;5;124m\"\u001b[39m}:\n\u001b[0;32m    184\u001b[0m     \u001b[38;5;66;03m# Use NumPy API to support order\u001b[39;00m\n\u001b[1;32m--> 185\u001b[0m     array \u001b[38;5;241m=\u001b[39m \u001b[43mnumpy\u001b[49m\u001b[38;5;241;43m.\u001b[39;49m\u001b[43masarray\u001b[49m\u001b[43m(\u001b[49m\u001b[43marray\u001b[49m\u001b[43m,\u001b[49m\u001b[43m \u001b[49m\u001b[43morder\u001b[49m\u001b[38;5;241;43m=\u001b[39;49m\u001b[43morder\u001b[49m\u001b[43m,\u001b[49m\u001b[43m \u001b[49m\u001b[43mdtype\u001b[49m\u001b[38;5;241;43m=\u001b[39;49m\u001b[43mdtype\u001b[49m\u001b[43m)\u001b[49m\n\u001b[0;32m    186\u001b[0m     \u001b[38;5;28;01mreturn\u001b[39;00m xp\u001b[38;5;241m.\u001b[39masarray(array, copy\u001b[38;5;241m=\u001b[39mcopy)\n\u001b[0;32m    187\u001b[0m \u001b[38;5;28;01melse\u001b[39;00m:\n",
      "File \u001b[1;32m~\\AppData\\Local\\Programs\\Python\\Python310\\lib\\site-packages\\torch\\_tensor.py:958\u001b[0m, in \u001b[0;36mTensor.__array__\u001b[1;34m(self, dtype)\u001b[0m\n\u001b[0;32m    956\u001b[0m     \u001b[38;5;28;01mreturn\u001b[39;00m \u001b[38;5;28mself\u001b[39m\u001b[38;5;241m.\u001b[39mnumpy()\n\u001b[0;32m    957\u001b[0m \u001b[38;5;28;01melse\u001b[39;00m:\n\u001b[1;32m--> 958\u001b[0m     \u001b[38;5;28;01mreturn\u001b[39;00m \u001b[38;5;28;43mself\u001b[39;49m\u001b[38;5;241;43m.\u001b[39;49m\u001b[43mnumpy\u001b[49m\u001b[43m(\u001b[49m\u001b[43m)\u001b[49m\u001b[38;5;241m.\u001b[39mastype(dtype, copy\u001b[38;5;241m=\u001b[39m\u001b[38;5;28;01mFalse\u001b[39;00m)\n",
      "\u001b[1;31mRuntimeError\u001b[0m: Numpy is not available"
     ]
    }
   ],
   "source": [
    "decomposition.PCA(n_components=2).fit_transform(C)"
   ]
  },
  {
   "cell_type": "code",
   "execution_count": null,
   "id": "417a1691-8882-4eae-b0b2-12902bc1456f",
   "metadata": {
    "tags": []
   },
   "outputs": [
    {
     "data": {
      "text/plain": [
       "tensor([  9.9483,  -1.8268,  -3.2672,  -5.9609,  -0.2871,   3.6682, -13.2474,\n",
       "          1.3496,  -4.4172,   6.1332,   4.9373,   4.1806,  -0.0258,  -6.4024,\n",
       "          7.7434,  14.7237,  11.7962,  -0.5299,   7.8252,   4.9834,   7.8252,\n",
       "         -6.1020,   0.6211,  -0.9386,  -7.7932,   7.1739,  11.9462,   1.9195,\n",
       "         -5.5786,   1.4624], grad_fn=<SelectBackward0>)"
      ]
     },
     "execution_count": 275,
     "metadata": {},
     "output_type": "execute_result"
    }
   ],
   "source": []
  }
 ],
 "metadata": {
  "kernelspec": {
   "display_name": "Python 3 (ipykernel)",
   "language": "python",
   "name": "python3"
  },
  "language_info": {
   "codemirror_mode": {
    "name": "ipython",
    "version": 3
   },
   "file_extension": ".py",
   "mimetype": "text/x-python",
   "name": "python",
   "nbconvert_exporter": "python",
   "pygments_lexer": "ipython3",
   "version": "3.10.4"
  }
 },
 "nbformat": 4,
 "nbformat_minor": 5
}
